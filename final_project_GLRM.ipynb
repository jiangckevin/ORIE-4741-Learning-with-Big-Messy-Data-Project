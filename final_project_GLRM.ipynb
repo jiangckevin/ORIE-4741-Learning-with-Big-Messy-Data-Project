{
 "cells": [
  {
   "cell_type": "code",
   "execution_count": 1,
   "metadata": {},
   "outputs": [],
   "source": [
    "using LowRankModels, Random, LinearAlgebra, Plots, Statistics, CSV"
   ]
  },
  {
   "cell_type": "code",
   "execution_count": 2,
   "metadata": {},
   "outputs": [],
   "source": [
    "data = convert(Matrix, CSV.read(\"cleaned_data_notencoded.csv\"))\n",
    "n, d = size(data)\n",
    "age = data[:,1]\n",
    "data_int = convert(Matrix{Integer}, data[:,2:d])\n",
    "data = hcat(age, data_int);"
   ]
  },
  {
   "cell_type": "code",
   "execution_count": 4,
   "metadata": {},
   "outputs": [],
   "source": [
    "function partitionTrainTest(data, at = 0.8)\n",
    "    idx = shuffle(1:n)\n",
    "    train_idx = view(idx, 1:floor(Int, at*n))\n",
    "    test_idx = view(idx, (floor(Int, at*n)+1):n)\n",
    "    data[train_idx,:], data[test_idx,:]\n",
    "end\n",
    "\n",
    "train, test = partitionTrainTest(data, 0.7);"
   ]
  },
  {
   "cell_type": "code",
   "execution_count": 5,
   "metadata": {},
   "outputs": [],
   "source": [
    "x_train = train[:,1:d-1]\n",
    "y_train = train[:,d]\n",
    "\n",
    "x_test = test[:,1:d-1]\n",
    "y_test = test[:,d];"
   ]
  },
  {
   "cell_type": "code",
   "execution_count": 6,
   "metadata": {},
   "outputs": [],
   "source": [
    "n_train, d = size(train);"
   ]
  },
  {
   "cell_type": "code",
   "execution_count": 15,
   "metadata": {},
   "outputs": [
    {
     "name": "stdout",
     "output_type": "stream",
     "text": [
      "At bootstrap: 1\n",
      "Fitting GLRM\n",
      "Iteration 10: objective value = 169.24020803057113\n",
      "Iteration 20: objective value = 109.03761967921189\n",
      "Iteration 30: objective value = 84.35400821176141\n",
      "Iteration 40: objective value = 72.44446491589274\n",
      "Iteration 50: objective value = 67.18458902787555\n",
      "Iteration 60: objective value = 63.12997084678785\n",
      "Iteration 70: objective value = 60.39203992426055\n",
      "Iteration 80: objective value = 58.190492452749154\n",
      "Iteration 90: objective value = 55.95125967645378\n",
      "Iteration 100: objective value = 54.2753826601139\n",
      "Fitting GLRM\n",
      "Iteration 10: objective value = 51.66256128161153\n",
      "Iteration 20: objective value = 49.88512779430381\n",
      "Iteration 30: objective value = 47.759199388093684\n",
      "Iteration 40: objective value = 45.76200619934789\n",
      "Iteration 50: objective value = 44.585586089393985\n",
      "Iteration 60: objective value = 43.507686499262284\n",
      "Iteration 70: objective value = 42.36658685318229\n",
      "Iteration 80: objective value = 41.13182300760114\n",
      "Iteration 90: objective value = 39.80804937260375\n",
      "Iteration 100: objective value = 38.568896412475354\n",
      "Fitting GLRM\n",
      "Iteration 10: objective value = 37.40186625341428\n",
      "Iteration 20: objective value = 36.39670185436848\n",
      "Iteration 30: objective value = 35.66519323037152\n",
      "Iteration 40: objective value = 35.16834261853837\n",
      "Iteration 50: objective value = 34.77894846985946\n",
      "Iteration 60: objective value = 34.50760302323135\n",
      "Iteration 70: objective value = 34.28610598389068\n",
      "Iteration 80: objective value = 34.09875440966977\n",
      "Iteration 90: objective value = 33.93074871091475\n",
      "Iteration 100: objective value = 33.777527484510316\n",
      "Fitting GLRM\n",
      "Iteration 10: objective value = 33.63603053302266\n",
      "Fitting GLRM\n",
      "Iteration 10: objective value = 33.47080151191961\n"
     ]
    }
   ],
   "source": [
    "k = 3\n",
    "X = Array{Float64}(undef, k, d)\n",
    "Y = Array{Float64}(undef, k, d)\n",
    "no_bootstrap = 1\n",
    "for i in 1:no_bootstrap\n",
    "    print(\"At bootstrap: \", i, \"\\n\")\n",
    "    Ω = findall(rand(n_train,d) .< .1)     \n",
    "    loss = HuberLoss()\n",
    "    #loss = Loss[QuadLoss(), BvSLoss(), LogLoss(), LogLoss(), BvSLoss(),\n",
    "    #LogLoss(), LogLoss(), BvSLoss(), BvSLoss(), BvSLoss(), \n",
    "    #BvSLoss(), BvSLoss(), BvSLoss(), BvSLoss(), LogLoss()]\n",
    "    reg = QuadReg(.001) # a tiny bit of quadratic regularization\n",
    "    glrm = GLRM(train, loss, reg, reg, k, obs=Ω) \n",
    "    add_offset!(glrm)      # adds an offset to the model\n",
    "    init_svd!(glrm)\n",
    "    X, Y, ch = fit!(glrm)\n",
    "    X, Y, ch = fit!(glrm)\n",
    "    X, Y, ch = fit!(glrm)\n",
    "    X, Y, ch = fit!(glrm)\n",
    "    X, Y, ch = fit!(glrm)\n",
    "    Y += 1/no_bootstrap * Y\n",
    "    X += 1/no_bootstrap * X\n",
    "end"
   ]
  },
  {
   "cell_type": "code",
   "execution_count": 16,
   "metadata": {},
   "outputs": [
    {
     "data": {
      "text/plain": [
       "3×15 Array{Float64,2}:\n",
       " -0.204404  -0.35546  -0.483848  …  -0.683364   3.75956     0.158105\n",
       "  0.258939   0.81458  -0.297476     23.6628     4.98428    -1.9693\n",
       "  0.563714   1.66646   0.366309      1.82408   -0.0115509   1.25985"
      ]
     },
     "execution_count": 16,
     "metadata": {},
     "output_type": "execute_result"
    }
   ],
   "source": [
    "Y"
   ]
  },
  {
   "cell_type": "code",
   "execution_count": 17,
   "metadata": {},
   "outputs": [
    {
     "name": "stdout",
     "output_type": "stream",
     "text": [
      "Fitting GLRM\n",
      "Iteration 10: objective value = 1298.7668508742581\n",
      "Iteration 20: objective value = 1294.2551020425785\n"
     ]
    }
   ],
   "source": [
    "loss = HuberLoss()\n",
    "#loss = [QuadLoss(), BvSLoss(), LogLoss(), LogLoss(), BvSLoss(),\n",
    "#    LogLoss(), LogLoss(), BvSLoss(), BvSLoss(), BvSLoss(), \n",
    "#    BvSLoss(), BvSLoss(), BvSLoss(), BvSLoss(), LogLoss()]\n",
    "reg = QuadReg(.001) # a tiny bit of quadratic regularization\n",
    "glrm = GLRM(test, loss, reg, reg, k)  # the GLRM object stores the model, data, and parameter estimate\n",
    "add_offset!(glrm)    # adds an offset to the model\n",
    "init_svd!(glrm)\n",
    "X_test, Y_test, ch = fit!(glrm);                          # alternating minimization"
   ]
  },
  {
   "cell_type": "code",
   "execution_count": 18,
   "metadata": {},
   "outputs": [
    {
     "data": {
      "text/plain": [
       "695-element Array{Float64,1}:\n",
       " 0.8190754390434782\n",
       " 2.769834909336848\n",
       " 2.2768567171357987\n",
       " 1.215527718159327\n",
       " 3.5681238033268308\n",
       " 3.6324198084866905\n",
       " 2.0311686418653907\n",
       " 3.441395941445944\n",
       " 0.0550772496655596\n",
       " 8.910458915980556\n",
       " 2.5197077933692755\n",
       " 2.5197077933692755\n",
       " 6.3764204332114245\n",
       " ⋮\n",
       " 2.5243773573536967\n",
       " 2.676097161395504\n",
       " 2.5197077933692755\n",
       " 4.276831928429\n",
       " 2.5197077933692755\n",
       " 2.5197077933692755\n",
       " 3.441395941445944\n",
       " 2.242006928084118\n",
       " 1.8348192214301045\n",
       " 1.3972137546930035\n",
       " 2.5197077933692755\n",
       " 2.5197077933692755"
      ]
     },
     "execution_count": 18,
     "metadata": {},
     "output_type": "execute_result"
    }
   ],
   "source": [
    "y_pred = X'*Y[:,d]"
   ]
  },
  {
   "cell_type": "code",
   "execution_count": 327,
   "metadata": {},
   "outputs": [
    {
     "data": {
      "text/plain": [
       "695-element Array{Real,1}:\n",
       " 0\n",
       " 1\n",
       " 1\n",
       " 1\n",
       " 1\n",
       " 0\n",
       " 0\n",
       " 1\n",
       " 0\n",
       " 1\n",
       " 0\n",
       " 0\n",
       " 1\n",
       " ⋮\n",
       " 0\n",
       " 0\n",
       " 0\n",
       " 1\n",
       " 1\n",
       " 1\n",
       " 1\n",
       " 1\n",
       " 0\n",
       " 1\n",
       " 1\n",
       " 0"
      ]
     },
     "execution_count": 327,
     "metadata": {},
     "output_type": "execute_result"
    }
   ],
   "source": [
    "y_train"
   ]
  },
  {
   "cell_type": "code",
   "execution_count": null,
   "metadata": {},
   "outputs": [],
   "source": []
  }
 ],
 "metadata": {
  "kernelspec": {
   "display_name": "Julia 1.5.1",
   "language": "julia",
   "name": "julia-1.5"
  },
  "language_info": {
   "file_extension": ".jl",
   "mimetype": "application/julia",
   "name": "julia",
   "version": "1.5.1"
  }
 },
 "nbformat": 4,
 "nbformat_minor": 2
}
