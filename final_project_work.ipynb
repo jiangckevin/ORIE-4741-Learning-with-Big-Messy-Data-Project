{
 "cells": [
  {
   "cell_type": "code",
   "execution_count": 1,
   "metadata": {},
   "outputs": [],
   "source": [
    "import numpy as np\n",
    "import pandas as pd \n",
    "import matplotlib.pyplot as plt\n",
    "import seaborn as sns\n",
    "import math\n",
    "from scipy import stats\n",
    "from scipy.stats import randint\n",
    "from sklearn.model_selection import train_test_split\n",
    "from sklearn import preprocessing\n",
    "from sklearn.datasets import make_classification\n",
    "from sklearn.preprocessing import binarize, LabelEncoder, MinMaxScaler\n",
    "\n",
    "from sklearn.linear_model import LogisticRegression, LinearRegression, Ridge, Lasso\n",
    "from sklearn.tree import DecisionTreeClassifier\n",
    "from sklearn.ensemble import RandomForestClassifier, ExtraTreesClassifier\n",
    "from sklearn import metrics\n",
    "from sklearn.metrics import accuracy_score, mean_squared_error, precision_recall_curve, hinge_loss\n",
    "from sklearn.model_selection import cross_val_score\n",
    "from sklearn.ensemble import RandomForestClassifier\n",
    "from sklearn.metrics import f1_score,confusion_matrix\n",
    "from sklearn.metrics import accuracy_score\n",
    "from sklearn.feature_selection import RFECV\n",
    "from sklearn.feature_selection import SelectKBest\n",
    "from sklearn.feature_selection import chi2\n",
    "from sklearn.utils import resample"
   ]
  },
  {
   "cell_type": "markdown",
   "metadata": {},
   "source": [
    "## DATA PREPROCESSING"
   ]
  },
  {
   "cell_type": "code",
   "execution_count": 27,
   "metadata": {},
   "outputs": [],
   "source": [
    "df = pd.read_csv('survey.csv')\n",
    "#print(df.info())"
   ]
  },
  {
   "cell_type": "code",
   "execution_count": 28,
   "metadata": {},
   "outputs": [
    {
     "name": "stdout",
     "output_type": "stream",
     "text": [
      "['Female' 'M' 'Male' 'male' 'female' 'm' 'Male-ish' 'maile' 'Trans-female'\n",
      " 'Cis Female' 'F' 'something kinda male?' 'Cis Male' 'Woman' 'f' 'Mal'\n",
      " 'Male (CIS)' 'queer/she/they' 'non-binary' 'Femake' 'woman' 'Make' 'Nah'\n",
      " 'All' 'Enby' 'fluid' 'Genderqueer' 'Female ' 'Androgyne' 'Agender'\n",
      " 'cis-female/femme' 'Guy (-ish) ^_^' 'male leaning androgynous' 'Male '\n",
      " 'Man' 'Trans woman' 'msle' 'Neuter' 'Female (trans)' 'queer'\n",
      " 'Female (cis)' 'Mail' 'cis male' 'A little about you' 'Malr' 'p' 'femail'\n",
      " 'Cis Man' 'ostensibly male, unsure what that really means']\n"
     ]
    }
   ],
   "source": [
    "#Data Cleaning\n",
    "#Drop Country, States, Timestamp and comments\n",
    "df=df.drop(['state'], axis= 1)\n",
    "df=df.drop(['Country'], axis= 1)\n",
    "df=df.drop(['Timestamp'], axis= 1)\n",
    "df=df.drop(['comments'], axis= 1)\n",
    "\n",
    "#Clean Null (NA) Value\n",
    "\n",
    "\n",
    "StringFeature = ['Gender','self_employed', 'family_history', 'treatment', 'work_interfere',\n",
    "                 'no_employees', 'remote_work', 'tech_company', 'anonymity', 'leave', 'mental_health_consequence',\n",
    "                 'phys_health_consequence', 'coworkers', 'supervisor', 'mental_health_interview', 'phys_health_interview',\n",
    "                 'mental_vs_physical', 'obs_consequence', 'benefits', 'care_options', 'wellness_program',\n",
    "                 'seek_help']\n",
    "\n",
    "for feature in df:\n",
    "    if feature in StringFeature:\n",
    "        df[feature]=df[feature].fillna('NaN')\n",
    "\n",
    "#The following section is trying to standardize the Gender column and only include three types of elements: male, trans, female\n",
    "# How many unique elements are there in Gender column\n",
    "gender=df['Gender'].unique()\n",
    "print(gender)\n",
    "\n",
    "Male=['M','Male','male','m','Male-ish','maile','something kinda male?','Cis Male','Mal','Male (CIS)','Make','Male ','Man','msle','Mail','cis male','Malr','Cis Man']\n",
    "Female=['Female','female','F','Cis Female','Woman','f','Female ','Femake','woman','cis-female/femme','Female (cis)','femail']\n",
    "Trans=['Trans-female','something kinda male?','queer/she/they','non-binary','Nah',\n",
    " 'All', 'Enby', 'fluid', 'Genderqueer','Androgyne','Agender','Guy (-ish) ^_^','Trans woman','Neuter', 'Female (trans)', 'queer','A little about you','ostensibly male, unsure what that really means','male leaning androgynous']\n",
    "Unidentified=['A little about you','p']\n",
    "\n",
    "\n",
    "for (row, col) in df.iterrows():\n",
    "\n",
    "    if col.Gender in Male:\n",
    "        df['Gender'].replace(to_replace=col.Gender, value='Male', inplace=True)\n",
    "\n",
    "    if col.Gender in Female:\n",
    "        df['Gender'].replace(to_replace=col.Gender, value='Female', inplace=True)\n",
    "\n",
    "    if col.Gender in Trans:\n",
    "        df['Gender'].replace(to_replace=col.Gender, value='Trans', inplace=True)\n",
    "\n",
    "df = df[~df['Gender'].isin(Unidentified)] #Delete the rows with Unidentified value\n",
    "\n",
    "#The following section is to use the median filling the rows with strange age value. (Strange Value: Less than 18, and 100)\n",
    "\n",
    "#complete missing age with mean\n",
    "df['Age'].fillna(df['Age'].median(), inplace = True)\n",
    "\n",
    "# Fill with media() values < 18 and > 120\n",
    "s = pd.Series(df['Age'])\n",
    "s[s<18] = df['Age'].median()\n",
    "df['Age'] = s\n",
    "s = pd.Series(df['Age'])\n",
    "s[s>100] = df['Age'].median()\n",
    "df['Age'] = s\n",
    "\n",
    "#Develop on new column Ranges of Age\n",
    "df['age_range'] = pd.cut(df['Age'], [0,20,30,65,100], labels=[\"0-20\", \"21-30\", \"31-65\", \"66-100\"], include_lowest=True)\n",
    "\n",
    "#Replace the NaN value in self_employed column with No\n",
    "df['self_employed']=df['self_employed'].replace('NaN','No')\n",
    "\n",
    "#Delete NaN value in work_interfere column since we would assume those are normal people \n",
    "Value=['NaN']\n",
    "df=df[~df['work_interfere'].isin(Value)]"
   ]
  },
  {
   "cell_type": "code",
   "execution_count": 29,
   "metadata": {},
   "outputs": [],
   "source": [
    "#Encoding data with Label Encoder\n",
    "#Dataset dflabel is the one with Label Encoder\n",
    "\n",
    "dflabel=df\n",
    "labelDict = {}\n",
    "for feature in ['Gender','self_employed', 'family_history', 'treatment',\n",
    "                 'no_employees', 'remote_work', 'tech_company', 'anonymity', 'leave', 'mental_health_consequence',\n",
    "                 'phys_health_consequence', 'coworkers', 'supervisor', 'mental_health_interview', 'phys_health_interview',\n",
    "                 'mental_vs_physical', 'obs_consequence', 'benefits', 'care_options', 'wellness_program',\n",
    "                 'seek_help','age_range']:\n",
    "    le = preprocessing.LabelEncoder()\n",
    "    le.fit(dflabel[feature])\n",
    "    le_name_mapping = dict(zip(le.classes_, le.transform(le.classes_)))\n",
    "    dflabel[feature] = le.transform(dflabel[feature])\n",
    "    # Get labels\n",
    "    labelKey = 'label_' + feature\n",
    "    labelValue = [*le_name_mapping]\n",
    "    labelDict[labelKey] =labelValue\n",
    "    \n",
    "#for key, value in labelDict.items():     \n",
    "#    print(key, value)"
   ]
  },
  {
   "cell_type": "code",
   "execution_count": 30,
   "metadata": {},
   "outputs": [
    {
     "data": {
      "text/html": [
       "<div>\n",
       "<style scoped>\n",
       "    .dataframe tbody tr th:only-of-type {\n",
       "        vertical-align: middle;\n",
       "    }\n",
       "\n",
       "    .dataframe tbody tr th {\n",
       "        vertical-align: top;\n",
       "    }\n",
       "\n",
       "    .dataframe thead th {\n",
       "        text-align: right;\n",
       "    }\n",
       "</style>\n",
       "<table border=\"1\" class=\"dataframe\">\n",
       "  <thead>\n",
       "    <tr style=\"text-align: right;\">\n",
       "      <th></th>\n",
       "      <th>Age</th>\n",
       "      <th>Gender</th>\n",
       "      <th>self_employed</th>\n",
       "      <th>family_history</th>\n",
       "      <th>treatment</th>\n",
       "      <th>work_interfere</th>\n",
       "      <th>no_employees</th>\n",
       "      <th>remote_work</th>\n",
       "      <th>tech_company</th>\n",
       "      <th>benefits</th>\n",
       "      <th>...</th>\n",
       "      <th>leave</th>\n",
       "      <th>mental_health_consequence</th>\n",
       "      <th>phys_health_consequence</th>\n",
       "      <th>coworkers</th>\n",
       "      <th>supervisor</th>\n",
       "      <th>mental_health_interview</th>\n",
       "      <th>phys_health_interview</th>\n",
       "      <th>mental_vs_physical</th>\n",
       "      <th>obs_consequence</th>\n",
       "      <th>age_range</th>\n",
       "    </tr>\n",
       "  </thead>\n",
       "  <tbody>\n",
       "    <tr>\n",
       "      <th>0</th>\n",
       "      <td>0.351852</td>\n",
       "      <td>0</td>\n",
       "      <td>0</td>\n",
       "      <td>0</td>\n",
       "      <td>1</td>\n",
       "      <td>Often</td>\n",
       "      <td>4</td>\n",
       "      <td>0</td>\n",
       "      <td>1</td>\n",
       "      <td>2</td>\n",
       "      <td>...</td>\n",
       "      <td>2</td>\n",
       "      <td>1</td>\n",
       "      <td>1</td>\n",
       "      <td>1</td>\n",
       "      <td>2</td>\n",
       "      <td>1</td>\n",
       "      <td>0</td>\n",
       "      <td>2</td>\n",
       "      <td>0</td>\n",
       "      <td>2</td>\n",
       "    </tr>\n",
       "    <tr>\n",
       "      <th>1</th>\n",
       "      <td>0.481481</td>\n",
       "      <td>1</td>\n",
       "      <td>0</td>\n",
       "      <td>0</td>\n",
       "      <td>0</td>\n",
       "      <td>Rarely</td>\n",
       "      <td>5</td>\n",
       "      <td>0</td>\n",
       "      <td>0</td>\n",
       "      <td>0</td>\n",
       "      <td>...</td>\n",
       "      <td>0</td>\n",
       "      <td>0</td>\n",
       "      <td>1</td>\n",
       "      <td>0</td>\n",
       "      <td>0</td>\n",
       "      <td>1</td>\n",
       "      <td>1</td>\n",
       "      <td>0</td>\n",
       "      <td>0</td>\n",
       "      <td>2</td>\n",
       "    </tr>\n",
       "    <tr>\n",
       "      <th>2</th>\n",
       "      <td>0.259259</td>\n",
       "      <td>1</td>\n",
       "      <td>0</td>\n",
       "      <td>0</td>\n",
       "      <td>0</td>\n",
       "      <td>Rarely</td>\n",
       "      <td>4</td>\n",
       "      <td>0</td>\n",
       "      <td>1</td>\n",
       "      <td>1</td>\n",
       "      <td>...</td>\n",
       "      <td>1</td>\n",
       "      <td>1</td>\n",
       "      <td>1</td>\n",
       "      <td>2</td>\n",
       "      <td>2</td>\n",
       "      <td>2</td>\n",
       "      <td>2</td>\n",
       "      <td>1</td>\n",
       "      <td>0</td>\n",
       "      <td>2</td>\n",
       "    </tr>\n",
       "    <tr>\n",
       "      <th>3</th>\n",
       "      <td>0.240741</td>\n",
       "      <td>1</td>\n",
       "      <td>0</td>\n",
       "      <td>1</td>\n",
       "      <td>1</td>\n",
       "      <td>Often</td>\n",
       "      <td>2</td>\n",
       "      <td>0</td>\n",
       "      <td>1</td>\n",
       "      <td>1</td>\n",
       "      <td>...</td>\n",
       "      <td>1</td>\n",
       "      <td>2</td>\n",
       "      <td>2</td>\n",
       "      <td>1</td>\n",
       "      <td>0</td>\n",
       "      <td>0</td>\n",
       "      <td>0</td>\n",
       "      <td>1</td>\n",
       "      <td>1</td>\n",
       "      <td>2</td>\n",
       "    </tr>\n",
       "    <tr>\n",
       "      <th>4</th>\n",
       "      <td>0.240741</td>\n",
       "      <td>1</td>\n",
       "      <td>0</td>\n",
       "      <td>0</td>\n",
       "      <td>0</td>\n",
       "      <td>Never</td>\n",
       "      <td>1</td>\n",
       "      <td>1</td>\n",
       "      <td>1</td>\n",
       "      <td>2</td>\n",
       "      <td>...</td>\n",
       "      <td>0</td>\n",
       "      <td>1</td>\n",
       "      <td>1</td>\n",
       "      <td>1</td>\n",
       "      <td>2</td>\n",
       "      <td>2</td>\n",
       "      <td>2</td>\n",
       "      <td>0</td>\n",
       "      <td>0</td>\n",
       "      <td>2</td>\n",
       "    </tr>\n",
       "  </tbody>\n",
       "</table>\n",
       "<p>5 rows × 24 columns</p>\n",
       "</div>"
      ],
      "text/plain": [
       "        Age  Gender  self_employed  family_history  treatment work_interfere  \\\n",
       "0  0.351852       0              0               0          1          Often   \n",
       "1  0.481481       1              0               0          0         Rarely   \n",
       "2  0.259259       1              0               0          0         Rarely   \n",
       "3  0.240741       1              0               1          1          Often   \n",
       "4  0.240741       1              0               0          0          Never   \n",
       "\n",
       "   no_employees  remote_work  tech_company  benefits  ...  leave  \\\n",
       "0             4            0             1         2  ...      2   \n",
       "1             5            0             0         0  ...      0   \n",
       "2             4            0             1         1  ...      1   \n",
       "3             2            0             1         1  ...      1   \n",
       "4             1            1             1         2  ...      0   \n",
       "\n",
       "   mental_health_consequence  phys_health_consequence  coworkers  supervisor  \\\n",
       "0                          1                        1          1           2   \n",
       "1                          0                        1          0           0   \n",
       "2                          1                        1          2           2   \n",
       "3                          2                        2          1           0   \n",
       "4                          1                        1          1           2   \n",
       "\n",
       "   mental_health_interview  phys_health_interview  mental_vs_physical  \\\n",
       "0                        1                      0                   2   \n",
       "1                        1                      1                   0   \n",
       "2                        2                      2                   1   \n",
       "3                        0                      0                   1   \n",
       "4                        2                      2                   0   \n",
       "\n",
       "   obs_consequence  age_range  \n",
       "0                0          2  \n",
       "1                0          2  \n",
       "2                0          2  \n",
       "3                1          2  \n",
       "4                0          2  \n",
       "\n",
       "[5 rows x 24 columns]"
      ]
     },
     "execution_count": 30,
     "metadata": {},
     "output_type": "execute_result"
    }
   ],
   "source": [
    "#Scaling the Age\n",
    "scaler = MinMaxScaler() # maps age values to interval [0,1] with 1 being maximum and 0 min to standardize\n",
    "df['Age'] = scaler.fit_transform(df[['Age']])\n",
    "df.head()"
   ]
  },
  {
   "cell_type": "code",
   "execution_count": 31,
   "metadata": {},
   "outputs": [
    {
     "name": "stderr",
     "output_type": "stream",
     "text": [
      "C:\\Users\\jiang\\Anaconda3\\lib\\site-packages\\ipykernel_launcher.py:4: SettingWithCopyWarning: \n",
      "A value is trying to be set on a copy of a slice from a DataFrame\n",
      "\n",
      "See the caveats in the documentation: https://pandas.pydata.org/pandas-docs/stable/user_guide/indexing.html#returning-a-view-versus-a-copy\n",
      "  after removing the cwd from sys.path.\n"
     ]
    }
   ],
   "source": [
    "df['suffer_but_no_treatment']=0 # this is our y variable\n",
    "for index, row in df.iterrows():\n",
    "    if (row['work_interfere'] == 'Often' or row['work_interfere'] == 'Sometimes') and (row['treatment'] == 0):\n",
    "        df['suffer_but_no_treatment'][index]=1"
   ]
  },
  {
   "cell_type": "code",
   "execution_count": 32,
   "metadata": {},
   "outputs": [
    {
     "name": "stdout",
     "output_type": "stream",
     "text": [
      "Total number of ppl whose work is interfered 'often' or 'sometimes' but have received no treatment:  128 out of 994\n"
     ]
    }
   ],
   "source": [
    "print(\"Total number of ppl whose work is interfered 'often' or 'sometimes' but have received no treatment: \", \n",
    "      np.sum(df['suffer_but_no_treatment']) , \"out of\", len(df))"
   ]
  },
  {
   "cell_type": "code",
   "execution_count": 33,
   "metadata": {},
   "outputs": [],
   "source": [
    "# we want to predict sufferers based on lacking this knowledge, so we drop it\n",
    "df = df.drop('work_interfere',axis=1)\n",
    "df = df.drop('treatment',axis=1)\n",
    "x=df.iloc[:,:-1]\n",
    "y=df['suffer_but_no_treatment']"
   ]
  },
  {
   "cell_type": "code",
   "execution_count": 34,
   "metadata": {},
   "outputs": [],
   "source": [
    "x_train, x_test, y_train, y_test = train_test_split(x, y, test_size=0.1, random_state=42)"
   ]
  },
  {
   "cell_type": "markdown",
   "metadata": {},
   "source": [
    "## FEATURE SELECTION"
   ]
  },
  {
   "cell_type": "markdown",
   "metadata": {},
   "source": [
    "Because we should penalize false negatives much more than false positives, we want a high sensitivity (reflects the model's ability to identify people who are in an unhealthy mental condition) or $$sensitivity = \\frac{TP}{TP + FN}$$"
   ]
  },
  {
   "cell_type": "code",
   "execution_count": 35,
   "metadata": {},
   "outputs": [],
   "source": [
    "def accuracy_score(y_test, predictions):\n",
    "    tp = 0; tn = 0; fp = 0; fn = 0\n",
    "    for index, (true, pred) in enumerate(zip(y_test, predictions)):\n",
    "        if true==1 and pred==1:\n",
    "            tp += 1\n",
    "        elif true==0 and pred==0:\n",
    "            tn += 1\n",
    "        elif true==0 and pred==1:\n",
    "            fp += 1\n",
    "        elif true==1 and pred==0:\n",
    "            fn += 1\n",
    "    print('(tp, tn, fp, fn): ', tp, tn, fp, fn)\n",
    "    sensitivity = tp / (tp+fn)\n",
    "    return sensitivity"
   ]
  },
  {
   "cell_type": "markdown",
   "metadata": {},
   "source": [
    "#### As a baseline, look at random forest model performance with all 22 features"
   ]
  },
  {
   "cell_type": "code",
   "execution_count": 36,
   "metadata": {},
   "outputs": [
    {
     "name": "stdout",
     "output_type": "stream",
     "text": [
      "(tp, tn, fp, fn):  0 90 1 9\n",
      "Accuracy is:  0.0\n"
     ]
    }
   ],
   "source": [
    "rf0 = RandomForestClassifier(random_state=43)      \n",
    "rf0 = rf0.fit(x_train,y_train)\n",
    "\n",
    "ac = accuracy_score(y_test,rf0.predict(x_test))\n",
    "print('Accuracy is: ',ac)"
   ]
  },
  {
   "cell_type": "markdown",
   "metadata": {},
   "source": [
    "#### Decide optimal # of features based on Recursive feature elimination"
   ]
  },
  {
   "cell_type": "code",
   "execution_count": 25,
   "metadata": {},
   "outputs": [
    {
     "data": {
      "image/png": "[encoded data removed]",
      "text/plain": [
       "<Figure size 432x288 with 1 Axes>"
      ]
     },
     "metadata": {},
     "output_type": "display_data"
    }
   ],
   "source": [
    "rf1=RandomForestClassifier() \n",
    "rfecv=RFECV(estimator=rf1,step=1,cv=10,scoring='accuracy')\n",
    "rfecv=rfecv.fit(x_train,y_train)\n",
    "#print('Optimal number of features :', rfecv.n_features_)\n",
    "plt.figure()\n",
    "plt.xlabel(\"Number of features selected\")\n",
    "plt.ylabel(\"Cross validation score of number of selected features\")\n",
    "plt.plot(range(1, len(rfecv.grid_scores_) + 1), rfecv.grid_scores_)\n",
    "plt.show()"
   ]
  },
  {
   "cell_type": "markdown",
   "metadata": {},
   "source": [
    "**Optimal # of features ~ 14**"
   ]
  },
  {
   "cell_type": "markdown",
   "metadata": {},
   "source": [
    "#### Feature subsel. from Correlation Analysis"
   ]
  },
  {
   "cell_type": "code",
   "execution_count": 37,
   "metadata": {},
   "outputs": [],
   "source": [
    "# Correlation Analysis\n",
    "featurea=['Age', 'family_history', 'benefits', 'care_options', 'anonymity', \n",
    "          'Gender', 'mental_health_interview', 'phys_health_interview', \n",
    "          'coworkers', 'seek_help', 'wellness_program', 'leave', \n",
    "          'mental_vs_physical', 'tech_company']"
   ]
  },
  {
   "cell_type": "code",
   "execution_count": 38,
   "metadata": {},
   "outputs": [
    {
     "name": "stdout",
     "output_type": "stream",
     "text": [
      "(tp, tn, fp, fn):  0 89 2 9\n",
      "Accuracy is:  0.0\n"
     ]
    }
   ],
   "source": [
    "x1_train=x_train[featurea]\n",
    "x1_test=x_test[featurea]\n",
    "rf2 = RandomForestClassifier(random_state=43)      \n",
    "rf2 = rf2.fit(x1_train,y_train)\n",
    "\n",
    "ac = accuracy_score(y_test,rf2.predict(x1_test))\n",
    "print('Accuracy is: ',ac)"
   ]
  },
  {
   "cell_type": "markdown",
   "metadata": {},
   "source": [
    "#### Feature subsel. from Tree-based feature sel."
   ]
  },
  {
   "cell_type": "code",
   "execution_count": 39,
   "metadata": {},
   "outputs": [
    {
     "name": "stdout",
     "output_type": "stream",
     "text": [
      "Feature ranking:\n",
      "1. feature 0 (0.150354)\n",
      "2. feature 4 (0.077457)\n",
      "3. feature 12 (0.068701)\n",
      "4. feature 8 (0.054478)\n",
      "5. feature 7 (0.053404)\n",
      "6. feature 13 (0.049989)\n",
      "7. feature 18 (0.049736)\n",
      "8. feature 16 (0.049618)\n",
      "9. feature 19 (0.048760)\n",
      "10. feature 10 (0.044372)\n",
      "11. feature 15 (0.042836)\n",
      "12. feature 3 (0.037497)\n",
      "13. feature 14 (0.037392)\n",
      "14. feature 9 (0.032120)\n",
      "15. feature 11 (0.030101)\n",
      "16. feature 21 (0.029366)\n",
      "17. feature 5 (0.027653)\n",
      "18. feature 1 (0.027651)\n",
      "19. feature 17 (0.023745)\n",
      "20. feature 6 (0.022939)\n",
      "21. feature 2 (0.021917)\n",
      "22. feature 20 (0.019913)\n"
     ]
    },
    {
     "data": {
      "image/png": "[encoded data removed]",
      "text/plain": [
       "<Figure size 1008x936 with 1 Axes>"
      ]
     },
     "metadata": {},
     "output_type": "display_data"
    }
   ],
   "source": [
    "#Tree-based feature selection and random forest classification\n",
    "rf2=RandomForestClassifier()\n",
    "rf2=rf2.fit(x_train,y_train)\n",
    "importance=rf2.feature_importances_\n",
    "std = np.std([tree.feature_importances_ for tree in rf2.estimators_], axis=0)\n",
    "indices = np.argsort(importance)[::-1]\n",
    "\n",
    "print(\"Feature ranking:\")\n",
    "\n",
    "for f in range(x_train.shape[1]):\n",
    "    \n",
    "    print(\"%d. feature %d (%f)\" % (f + 1, indices[f], importance[indices[f]]))\n",
    "plt.figure(1, figsize=(14, 13))\n",
    "plt.title(\"Feature importance\")\n",
    "plt.bar(range(x_train.shape[1]), importance[indices],\n",
    "       color=\"g\", yerr=std[indices], align=\"center\")\n",
    "plt.xticks(range(x_train.shape[1]), x_train.columns[indices],rotation=90)\n",
    "plt.xlim([-1, x_train.shape[1]])\n",
    "plt.show()"
   ]
  },
  {
   "cell_type": "code",
   "execution_count": 40,
   "metadata": {},
   "outputs": [],
   "source": [
    "featureb=['Age','no_employees','leave','benefits',\n",
    "         'mental_health_consequence','phys_health_interview','supervisor','mental_vs_physical',\n",
    "         'care_options','coworkers','seek_help','phys_health_consequence',\n",
    "         'family_history','wellness_program']"
   ]
  },
  {
   "cell_type": "code",
   "execution_count": 41,
   "metadata": {},
   "outputs": [
    {
     "name": "stdout",
     "output_type": "stream",
     "text": [
      "(tp, tn, fp, fn):  0 90 1 9\n",
      "Accuracy is:  0.0\n"
     ]
    }
   ],
   "source": [
    "x2_train=x_train[featureb]\n",
    "x2_test=x_test[featureb]\n",
    "rf3 = RandomForestClassifier(random_state=43)      \n",
    "rf3 = rf3.fit(x2_train,y_train)\n",
    "\n",
    "ac = accuracy_score(y_test,rf3.predict(x2_test))\n",
    "print('Accuracy is: ',ac)"
   ]
  },
  {
   "cell_type": "markdown",
   "metadata": {},
   "source": [
    "#### Feature subsel. from Univariate Feature Selection"
   ]
  },
  {
   "cell_type": "code",
   "execution_count": 42,
   "metadata": {},
   "outputs": [
    {
     "name": "stdout",
     "output_type": "stream",
     "text": [
      "Score list: [1.65866558e-01 2.41573528e-01 1.39354927e+00 8.12068045e-01\n",
      " 1.58230330e-01 1.80739042e-01 1.86709370e-01 9.46181660e+00\n",
      " 1.16350400e+01 1.16276221e-02 2.41551731e-03 1.17630095e+01\n",
      " 6.94269980e-01 9.81964550e-01 3.88484100e-01 1.93331108e+00\n",
      " 5.98275967e-01 2.45438099e-02 1.73530247e+00 1.17010242e+00\n",
      " 9.08944863e-01 2.25925536e-02]\n",
      "Feature list: Index(['Age', 'Gender', 'self_employed', 'family_history', 'no_employees',\n",
      "       'remote_work', 'tech_company', 'benefits', 'care_options',\n",
      "       'wellness_program', 'seek_help', 'anonymity', 'leave',\n",
      "       'mental_health_consequence', 'phys_health_consequence', 'coworkers',\n",
      "       'supervisor', 'mental_health_interview', 'phys_health_interview',\n",
      "       'mental_vs_physical', 'obs_consequence', 'age_range'],\n",
      "      dtype='object')\n"
     ]
    }
   ],
   "source": [
    "select_feature = SelectKBest(chi2, k=14).fit(x_train, y_train)\n",
    "print('Score list:', select_feature.scores_)\n",
    "print('Feature list:', x_train.columns)"
   ]
  },
  {
   "cell_type": "code",
   "execution_count": 43,
   "metadata": {},
   "outputs": [],
   "source": [
    "featurec = ['Age', 'Gender', 'self_employed', 'family_history', 'no_employees',\n",
    "       'remote_work', 'tech_company', 'benefits', 'care_options',\n",
    "       'wellness_program', 'seek_help', 'anonymity', 'leave',\n",
    "       'mental_health_consequence', 'phys_health_consequence', 'coworkers',\n",
    "       'supervisor', 'mental_health_interview', 'phys_health_interview',\n",
    "       'mental_vs_physical', 'obs_consequence', 'age_range'][:14]"
   ]
  },
  {
   "cell_type": "code",
   "execution_count": 46,
   "metadata": {},
   "outputs": [
    {
     "name": "stdout",
     "output_type": "stream",
     "text": [
      "(tp, tn, fp, fn):  2 91 0 7\n",
      "Accuracy is:  0.2222222222222222\n"
     ]
    }
   ],
   "source": [
    "x3_train=x_train[featurec]\n",
    "x3_test=x_test[featurec]\n",
    "rf4 = RandomForestClassifier()      \n",
    "rf4 = rf4.fit(x3_train,y_train)\n",
    "\n",
    "ac = accuracy_score(y_test,rf4.predict(x3_test))\n",
    "print('Accuracy is: ',ac)"
   ]
  },
  {
   "cell_type": "markdown",
   "metadata": {},
   "source": [
    "#### Conclusion (Feature subselection): It appears that the 14 best features learned by the 3rd method (via univariate feature subselection) returned even better results than a model trained with all 22 features. We will thus use feature C for further models below, and the random forest classifier as a sort of baseline for comparison."
   ]
  },
  {
   "cell_type": "markdown",
   "metadata": {},
   "source": [
    "### MODEL BUILDING\n",
    "(Linear regression, logisitic regression, regularization, bootstrapping, GLRMs)"
   ]
  },
  {
   "cell_type": "markdown",
   "metadata": {},
   "source": [
    "#### One hot encode"
   ]
  },
  {
   "cell_type": "code",
   "execution_count": 47,
   "metadata": {},
   "outputs": [],
   "source": [
    "x_encoded = x[featurec]\n",
    "x_encoded=df.iloc[:,1:-1]\n",
    "age=df['Age']\n",
    "y=df['suffer_but_no_treatment']\n",
    "\n",
    "enc = preprocessing.OneHotEncoder()\n",
    "T=enc.fit(x_encoded)\n",
    "x_encoded = enc.transform(x_encoded).toarray()\n",
    "\n",
    "new_df = pd.DataFrame(x_encoded).convert_dtypes('bin')\n",
    "new_age = pd.DataFrame(age.to_numpy())\n",
    "x_encoded = pd.concat([new_age, new_df], axis=1, ignore_index=True)"
   ]
  },
  {
   "cell_type": "code",
   "execution_count": 52,
   "metadata": {},
   "outputs": [],
   "source": [
    "x_encoded_train, x_encoded_test, y_train, y_test = train_test_split(x_encoded, y, test_size=0.1, random_state=42)\n",
    "x_train, x_test, y_train, y_test = train_test_split(x, y, test_size=0.1, random_state=42)"
   ]
  },
  {
   "cell_type": "markdown",
   "metadata": {},
   "source": [
    "#### Models"
   ]
  },
  {
   "cell_type": "code",
   "execution_count": 53,
   "metadata": {},
   "outputs": [
    {
     "name": "stdout",
     "output_type": "stream",
     "text": [
      "(tp, tn, fp, fn):  0 91 0 9\n"
     ]
    },
    {
     "data": {
      "text/plain": [
       "0.0"
      ]
     },
     "execution_count": 53,
     "metadata": {},
     "output_type": "execute_result"
    }
   ],
   "source": [
    "# Try out linear regression\n",
    "reg = LinearRegression()\n",
    "reg.fit(x_train, y_train)\n",
    "predictions = [0 if x<0.5 else 1 for x in reg.predict(x_test)]\n",
    "accuracy_score(y_test, predictions)"
   ]
  },
  {
   "cell_type": "code",
   "execution_count": 54,
   "metadata": {},
   "outputs": [
    {
     "name": "stdout",
     "output_type": "stream",
     "text": [
      "(tp, tn, fp, fn):  0 91 0 9\n"
     ]
    },
    {
     "data": {
      "text/plain": [
       "0.0"
      ]
     },
     "execution_count": 54,
     "metadata": {},
     "output_type": "execute_result"
    }
   ],
   "source": [
    "# Wow that's awful! How about adding some regularization?\n",
    "ridge = Ridge(alpha=1).fit(x_train, y_train) \n",
    "ridge.fit(x_train, y_train)\n",
    "predictions = [0 if x<0.5 else 1 for x in ridge.predict(x_test)]\n",
    "accuracy_score(y_test, predictions)"
   ]
  },
  {
   "cell_type": "code",
   "execution_count": 55,
   "metadata": {},
   "outputs": [
    {
     "name": "stdout",
     "output_type": "stream",
     "text": [
      "(tp, tn, fp, fn):  0 91 0 9\n"
     ]
    },
    {
     "data": {
      "text/plain": [
       "0.0"
      ]
     },
     "execution_count": 55,
     "metadata": {},
     "output_type": "execute_result"
    }
   ],
   "source": [
    "logit = LogisticRegression()\n",
    "logit.fit(x_train, y_train)\n",
    "predictions = [0 if x<0.5 else 1 for x in logit.predict(x_test)]\n",
    "accuracy_score(y_test, predictions)"
   ]
  },
  {
   "cell_type": "code",
   "execution_count": null,
   "metadata": {},
   "outputs": [],
   "source": []
  }
 ],
 "metadata": {
  "kernelspec": {
   "display_name": "Python 3",
   "language": "python",
   "name": "python3"
  },
  "language_info": {
   "codemirror_mode": {
    "name": "ipython",
    "version": 3
   },
   "file_extension": ".py",
   "mimetype": "text/x-python",
   "name": "python",
   "nbconvert_exporter": "python",
   "pygments_lexer": "ipython3",
   "version": "3.6.5"
  }
 },
 "nbformat": 4,
 "nbformat_minor": 2
}
